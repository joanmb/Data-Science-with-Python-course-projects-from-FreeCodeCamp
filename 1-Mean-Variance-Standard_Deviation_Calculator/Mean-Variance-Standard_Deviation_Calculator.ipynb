{
 "cells": [
  {
   "cell_type": "markdown",
   "id": "ca96e23a",
   "metadata": {},
   "source": [
    "# Mean-Variance-Standard Deviation Calculator\n",
    "\n",
    "#### The first project of the \"[*Data Analysis with Python*](https://www.freecodecamp.org/learn/data-analysis-with-python/)\" Certification.\n",
    "\n",
    "#### A [freeCodeCamp.org](https://www.freecodecamp.org/) course"
   ]
  },
  {
   "cell_type": "markdown",
   "id": "27a186fd",
   "metadata": {},
   "source": [
    "![purple-divider](https://user-images.githubusercontent.com/7065401/52071927-c1cd7100-2562-11e9-908a-dde91ba14e59.png)\n",
    "\n",
    "### The Goal\n",
    "\n",
    "We gonna create a function named `calculate()` that uses Numpy to output the mean, variance, standard deviation, max, min, and the sum of the rows, columns, and elements in a 3 x 3 matrix.\n",
    "\n",
    "The input of the function should be a list containing 9 digits. The function should convert the list into a 3 x 3 Numpy array, and then return a dictionary containing the mean, variance, standard deviation, max, min, and the sum along both axes and for the flattened matrix."
   ]
  },
  {
   "cell_type": "markdown",
   "id": "db5e81dd",
   "metadata": {},
   "source": [
    "### Hands on!"
   ]
  },
  {
   "cell_type": "code",
   "execution_count": 1,
   "id": "12634cf7",
   "metadata": {},
   "outputs": [],
   "source": [
    "import numpy as np"
   ]
  },
  {
   "cell_type": "code",
   "execution_count": 2,
   "id": "ca8cf61e",
   "metadata": {},
   "outputs": [],
   "source": [
    "def calculate(list):\n",
    "    if len(list) != 9:\n",
    "        raise ValueError(\"List must contain nine numbers.\")\n",
    "        \n",
    "    A = np.array(list)\n",
    "    A.shape = (3, 3)\n",
    "    \n",
    "    calculations = {\n",
    "        'mean': [A.mean(axis=0).tolist(), A.mean(axis=1).tolist(), A.mean()],\n",
    "        'variance': [A.var(axis=0).tolist(), A.var(axis=1).tolist(), A.var()],\n",
    "        'standard deviation': [A.std(axis=0).tolist(), A.std(axis=1).tolist(), A.std()],\n",
    "        'max': [A.max(axis=0).tolist(), A.max(axis=1).tolist(), A.max()],\n",
    "        'min': [A.min(axis=0).tolist(), A.min(axis=1).tolist(), A.min()],\n",
    "        'sum': [A.sum(axis=0).tolist(), A.sum(axis=1).tolist(), A.sum()]\n",
    "    }\n",
    "    \n",
    "    return calculations"
   ]
  },
  {
   "cell_type": "code",
   "execution_count": 3,
   "id": "320edadd",
   "metadata": {},
   "outputs": [
    {
     "data": {
      "text/plain": [
       "{'mean': [[3.0, 4.0, 5.0], [1.0, 4.0, 7.0], 4.0],\n",
       " 'variance': [[6.0, 6.0, 6.0],\n",
       "  [0.6666666666666666, 0.6666666666666666, 0.6666666666666666],\n",
       "  6.666666666666667],\n",
       " 'standard deviation': [[2.449489742783178,\n",
       "   2.449489742783178,\n",
       "   2.449489742783178],\n",
       "  [0.816496580927726, 0.816496580927726, 0.816496580927726],\n",
       "  2.581988897471611],\n",
       " 'max': [[6, 7, 8], [2, 5, 8], 8],\n",
       " 'min': [[0, 1, 2], [0, 3, 6], 0],\n",
       " 'sum': [[9, 12, 15], [3, 12, 21], 36]}"
      ]
     },
     "execution_count": 3,
     "metadata": {},
     "output_type": "execute_result"
    }
   ],
   "source": [
    "calculate([0,1,2,3,4,5,6,7,8])"
   ]
  },
  {
   "cell_type": "code",
   "execution_count": null,
   "id": "96d700bf",
   "metadata": {},
   "outputs": [],
   "source": []
  }
 ],
 "metadata": {
  "kernelspec": {
   "display_name": "Python 3 (ipykernel)",
   "language": "python",
   "name": "python3"
  },
  "language_info": {
   "codemirror_mode": {
    "name": "ipython",
    "version": 3
   },
   "file_extension": ".py",
   "mimetype": "text/x-python",
   "name": "python",
   "nbconvert_exporter": "python",
   "pygments_lexer": "ipython3",
   "version": "3.9.7"
  }
 },
 "nbformat": 4,
 "nbformat_minor": 5
}
