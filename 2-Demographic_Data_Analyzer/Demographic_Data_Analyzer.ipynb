{
 "cells": [
  {
   "cell_type": "markdown",
   "id": "7d97910d",
   "metadata": {},
   "source": [
    "# Demographic Data Analyzer\n",
    "\n",
    "#### The second project of the \"[*Data Analysis with Python*](https://www.freecodecamp.org/learn/data-analysis-with-python/)\" Certification.\n",
    "\n",
    "#### A [freeCodeCamp.org](https://www.freecodecamp.org/) course"
   ]
  },
  {
   "cell_type": "markdown",
   "id": "c5d85dcb",
   "metadata": {},
   "source": [
    "![purple-divider](https://user-images.githubusercontent.com/7065401/52071927-c1cd7100-2562-11e9-908a-dde91ba14e59.png)\n",
    "\n",
    "### The Goal\n",
    "\n",
    "In this challenge, we must analyze demographic data. We are given a dataset of demographic data that was extracted from the 1994 US Census database.\n",
    "\n",
    "We must use Pandas to answer some questions, rounding all decimals to the nearest tenth."
   ]
  },
  {
   "cell_type": "markdown",
   "id": "b6eb20ed",
   "metadata": {},
   "source": [
    "### Hands on!"
   ]
  },
  {
   "cell_type": "code",
   "execution_count": 1,
   "id": "12731272",
   "metadata": {},
   "outputs": [],
   "source": [
    "import pandas as pd"
   ]
  },
  {
   "cell_type": "code",
   "execution_count": 2,
   "id": "a912a1b2",
   "metadata": {},
   "outputs": [],
   "source": [
    "df = pd.read_csv('adult.data.csv')"
   ]
  },
  {
   "cell_type": "code",
   "execution_count": 3,
   "id": "197a27b2",
   "metadata": {},
   "outputs": [
    {
     "data": {
      "text/html": [
       "<div>\n",
       "<style scoped>\n",
       "    .dataframe tbody tr th:only-of-type {\n",
       "        vertical-align: middle;\n",
       "    }\n",
       "\n",
       "    .dataframe tbody tr th {\n",
       "        vertical-align: top;\n",
       "    }\n",
       "\n",
       "    .dataframe thead th {\n",
       "        text-align: right;\n",
       "    }\n",
       "</style>\n",
       "<table border=\"1\" class=\"dataframe\">\n",
       "  <thead>\n",
       "    <tr style=\"text-align: right;\">\n",
       "      <th></th>\n",
       "      <th>age</th>\n",
       "      <th>workclass</th>\n",
       "      <th>fnlwgt</th>\n",
       "      <th>education</th>\n",
       "      <th>education-num</th>\n",
       "      <th>marital-status</th>\n",
       "      <th>occupation</th>\n",
       "      <th>relationship</th>\n",
       "      <th>race</th>\n",
       "      <th>sex</th>\n",
       "      <th>capital-gain</th>\n",
       "      <th>capital-loss</th>\n",
       "      <th>hours-per-week</th>\n",
       "      <th>native-country</th>\n",
       "      <th>salary</th>\n",
       "    </tr>\n",
       "  </thead>\n",
       "  <tbody>\n",
       "    <tr>\n",
       "      <th>0</th>\n",
       "      <td>39</td>\n",
       "      <td>State-gov</td>\n",
       "      <td>77516</td>\n",
       "      <td>Bachelors</td>\n",
       "      <td>13</td>\n",
       "      <td>Never-married</td>\n",
       "      <td>Adm-clerical</td>\n",
       "      <td>Not-in-family</td>\n",
       "      <td>White</td>\n",
       "      <td>Male</td>\n",
       "      <td>2174</td>\n",
       "      <td>0</td>\n",
       "      <td>40</td>\n",
       "      <td>United-States</td>\n",
       "      <td>&lt;=50K</td>\n",
       "    </tr>\n",
       "    <tr>\n",
       "      <th>1</th>\n",
       "      <td>50</td>\n",
       "      <td>Self-emp-not-inc</td>\n",
       "      <td>83311</td>\n",
       "      <td>Bachelors</td>\n",
       "      <td>13</td>\n",
       "      <td>Married-civ-spouse</td>\n",
       "      <td>Exec-managerial</td>\n",
       "      <td>Husband</td>\n",
       "      <td>White</td>\n",
       "      <td>Male</td>\n",
       "      <td>0</td>\n",
       "      <td>0</td>\n",
       "      <td>13</td>\n",
       "      <td>United-States</td>\n",
       "      <td>&lt;=50K</td>\n",
       "    </tr>\n",
       "    <tr>\n",
       "      <th>2</th>\n",
       "      <td>38</td>\n",
       "      <td>Private</td>\n",
       "      <td>215646</td>\n",
       "      <td>HS-grad</td>\n",
       "      <td>9</td>\n",
       "      <td>Divorced</td>\n",
       "      <td>Handlers-cleaners</td>\n",
       "      <td>Not-in-family</td>\n",
       "      <td>White</td>\n",
       "      <td>Male</td>\n",
       "      <td>0</td>\n",
       "      <td>0</td>\n",
       "      <td>40</td>\n",
       "      <td>United-States</td>\n",
       "      <td>&lt;=50K</td>\n",
       "    </tr>\n",
       "    <tr>\n",
       "      <th>3</th>\n",
       "      <td>53</td>\n",
       "      <td>Private</td>\n",
       "      <td>234721</td>\n",
       "      <td>11th</td>\n",
       "      <td>7</td>\n",
       "      <td>Married-civ-spouse</td>\n",
       "      <td>Handlers-cleaners</td>\n",
       "      <td>Husband</td>\n",
       "      <td>Black</td>\n",
       "      <td>Male</td>\n",
       "      <td>0</td>\n",
       "      <td>0</td>\n",
       "      <td>40</td>\n",
       "      <td>United-States</td>\n",
       "      <td>&lt;=50K</td>\n",
       "    </tr>\n",
       "    <tr>\n",
       "      <th>4</th>\n",
       "      <td>28</td>\n",
       "      <td>Private</td>\n",
       "      <td>338409</td>\n",
       "      <td>Bachelors</td>\n",
       "      <td>13</td>\n",
       "      <td>Married-civ-spouse</td>\n",
       "      <td>Prof-specialty</td>\n",
       "      <td>Wife</td>\n",
       "      <td>Black</td>\n",
       "      <td>Female</td>\n",
       "      <td>0</td>\n",
       "      <td>0</td>\n",
       "      <td>40</td>\n",
       "      <td>Cuba</td>\n",
       "      <td>&lt;=50K</td>\n",
       "    </tr>\n",
       "  </tbody>\n",
       "</table>\n",
       "</div>"
      ],
      "text/plain": [
       "   age         workclass  fnlwgt  education  education-num  \\\n",
       "0   39         State-gov   77516  Bachelors             13   \n",
       "1   50  Self-emp-not-inc   83311  Bachelors             13   \n",
       "2   38           Private  215646    HS-grad              9   \n",
       "3   53           Private  234721       11th              7   \n",
       "4   28           Private  338409  Bachelors             13   \n",
       "\n",
       "       marital-status         occupation   relationship   race     sex  \\\n",
       "0       Never-married       Adm-clerical  Not-in-family  White    Male   \n",
       "1  Married-civ-spouse    Exec-managerial        Husband  White    Male   \n",
       "2            Divorced  Handlers-cleaners  Not-in-family  White    Male   \n",
       "3  Married-civ-spouse  Handlers-cleaners        Husband  Black    Male   \n",
       "4  Married-civ-spouse     Prof-specialty           Wife  Black  Female   \n",
       "\n",
       "   capital-gain  capital-loss  hours-per-week native-country salary  \n",
       "0          2174             0              40  United-States  <=50K  \n",
       "1             0             0              13  United-States  <=50K  \n",
       "2             0             0              40  United-States  <=50K  \n",
       "3             0             0              40  United-States  <=50K  \n",
       "4             0             0              40           Cuba  <=50K  "
      ]
     },
     "execution_count": 3,
     "metadata": {},
     "output_type": "execute_result"
    }
   ],
   "source": [
    "df.head()"
   ]
  },
  {
   "cell_type": "markdown",
   "id": "78516b28",
   "metadata": {},
   "source": [
    "### 1. How many people of each race are represented in this dataset?\n",
    "\n",
    "This should be a Pandas series with race names as the index labels. (`race` column)"
   ]
  },
  {
   "cell_type": "code",
   "execution_count": 4,
   "id": "c010020b",
   "metadata": {},
   "outputs": [
    {
     "data": {
      "text/plain": [
       "White                 27816\n",
       "Black                  3124\n",
       "Asian-Pac-Islander     1039\n",
       "Amer-Indian-Eskimo      311\n",
       "Other                   271\n",
       "Name: race, dtype: int64"
      ]
     },
     "execution_count": 4,
     "metadata": {},
     "output_type": "execute_result"
    }
   ],
   "source": [
    "race_count = df['race'].value_counts()\n",
    "race_count"
   ]
  },
  {
   "cell_type": "markdown",
   "id": "d06e5f5b",
   "metadata": {},
   "source": [
    "Is this a Pandas series?"
   ]
  },
  {
   "cell_type": "code",
   "execution_count": 5,
   "id": "dca87488",
   "metadata": {},
   "outputs": [
    {
     "data": {
      "text/plain": [
       "True"
      ]
     },
     "execution_count": 5,
     "metadata": {},
     "output_type": "execute_result"
    }
   ],
   "source": [
    "isinstance(race_count, pd.Series)"
   ]
  },
  {
   "cell_type": "markdown",
   "id": "41af24c6",
   "metadata": {},
   "source": [
    "### 2. What is the average age of men?"
   ]
  },
  {
   "cell_type": "code",
   "execution_count": 6,
   "id": "35b02ee7",
   "metadata": {},
   "outputs": [
    {
     "data": {
      "text/plain": [
       "39.4"
      ]
     },
     "execution_count": 6,
     "metadata": {},
     "output_type": "execute_result"
    }
   ],
   "source": [
    "average_age_men = df[df['sex'] == 'Male']['age'].mean()\n",
    "average_age_men = round(average_age_men, 1)\n",
    "average_age_men"
   ]
  },
  {
   "cell_type": "markdown",
   "id": "4fd03e7b",
   "metadata": {},
   "source": [
    "### 3. What is the percentage of people who have a Bachelor's degree?"
   ]
  },
  {
   "cell_type": "code",
   "execution_count": 7,
   "id": "a3db1cd7",
   "metadata": {},
   "outputs": [
    {
     "data": {
      "text/plain": [
       "16.4"
      ]
     },
     "execution_count": 7,
     "metadata": {},
     "output_type": "execute_result"
    }
   ],
   "source": [
    "percentage_bachelors = df[df['education'] == 'Bachelors'].shape[0]/df.shape[0]*100\n",
    "percentage_bachelors = round(percentage_bachelors, 1)\n",
    "percentage_bachelors"
   ]
  },
  {
   "cell_type": "markdown",
   "id": "700557df",
   "metadata": {},
   "source": [
    "### 4. What percentage of people with advanced education (`Bachelors`, `Masters`, or `Doctorate`) make more than 50K?"
   ]
  },
  {
   "cell_type": "code",
   "execution_count": 8,
   "id": "36c24be1",
   "metadata": {},
   "outputs": [],
   "source": [
    "higher_education = df[df['education'].isin(['Bachelors', 'Masters', 'Doctorate'])].shape[0]"
   ]
  },
  {
   "cell_type": "code",
   "execution_count": 9,
   "id": "75efb07d",
   "metadata": {},
   "outputs": [
    {
     "data": {
      "text/plain": [
       "46.5"
      ]
     },
     "execution_count": 9,
     "metadata": {},
     "output_type": "execute_result"
    }
   ],
   "source": [
    "higher_education_rich = df[(df['education'].isin(['Bachelors', 'Masters', 'Doctorate'])) & (df['salary']=='>50K')].shape[0]/higher_education*100\n",
    "higher_education_rich = round(higher_education_rich, 1)\n",
    "higher_education_rich"
   ]
  },
  {
   "cell_type": "markdown",
   "id": "56b889d6",
   "metadata": {},
   "source": [
    "### 5. What percentage of people without advanced education make more than 50K?"
   ]
  },
  {
   "cell_type": "code",
   "execution_count": 10,
   "id": "41b3f798",
   "metadata": {},
   "outputs": [],
   "source": [
    "lower_education = df[~df['education'].isin(['Bachelors', 'Masters', 'Doctorate'])].shape[0]"
   ]
  },
  {
   "cell_type": "code",
   "execution_count": 11,
   "id": "03a64c10",
   "metadata": {},
   "outputs": [
    {
     "data": {
      "text/plain": [
       "17.4"
      ]
     },
     "execution_count": 11,
     "metadata": {},
     "output_type": "execute_result"
    }
   ],
   "source": [
    "lower_education_rich = df[~(df['education'].isin(['Bachelors', 'Masters', 'Doctorate'])) & (df['salary']=='>50K')].shape[0]/lower_education*100\n",
    "lower_education_rich = round(lower_education_rich, 1)\n",
    "lower_education_rich"
   ]
  },
  {
   "cell_type": "markdown",
   "id": "1685757a",
   "metadata": {},
   "source": [
    "### 6. What is the minimum number of hours a person works per week?"
   ]
  },
  {
   "cell_type": "code",
   "execution_count": 12,
   "id": "95ff3b32",
   "metadata": {},
   "outputs": [
    {
     "data": {
      "text/plain": [
       "1"
      ]
     },
     "execution_count": 12,
     "metadata": {},
     "output_type": "execute_result"
    }
   ],
   "source": [
    "min_work_hours = df['hours-per-week'].min()\n",
    "min_work_hours"
   ]
  },
  {
   "cell_type": "markdown",
   "id": "5c7b9675",
   "metadata": {},
   "source": [
    "### 7. What percentage of the people who work the minimum number of hours per week have a salary of more than 50K?"
   ]
  },
  {
   "cell_type": "code",
   "execution_count": 13,
   "id": "3bb043ad",
   "metadata": {},
   "outputs": [],
   "source": [
    "num_min_workers = df[df['hours-per-week'] == min_work_hours].shape[0]"
   ]
  },
  {
   "cell_type": "code",
   "execution_count": 14,
   "id": "b1c2e997",
   "metadata": {},
   "outputs": [
    {
     "data": {
      "text/plain": [
       "10.0"
      ]
     },
     "execution_count": 14,
     "metadata": {},
     "output_type": "execute_result"
    }
   ],
   "source": [
    "rich_percentage = df[(df['hours-per-week'] == min_work_hours) & (df['salary']=='>50K')].shape[0] / num_min_workers *100\n",
    "rich_percentage = round(rich_percentage, 1)\n",
    "rich_percentage"
   ]
  },
  {
   "cell_type": "markdown",
   "id": "cfd8ea1f",
   "metadata": {},
   "source": [
    "### 8. What country has the highest percentage of people that earn more than 50K and what is that percentage?"
   ]
  },
  {
   "cell_type": "code",
   "execution_count": 15,
   "id": "034d6821",
   "metadata": {},
   "outputs": [
    {
     "data": {
      "text/plain": [
       "United-States                 29170\n",
       "Mexico                          643\n",
       "?                               583\n",
       "Philippines                     198\n",
       "Germany                         137\n",
       "Canada                          121\n",
       "Puerto-Rico                     114\n",
       "El-Salvador                     106\n",
       "India                           100\n",
       "Cuba                             95\n",
       "England                          90\n",
       "Jamaica                          81\n",
       "South                            80\n",
       "China                            75\n",
       "Italy                            73\n",
       "Dominican-Republic               70\n",
       "Vietnam                          67\n",
       "Guatemala                        64\n",
       "Japan                            62\n",
       "Poland                           60\n",
       "Columbia                         59\n",
       "Taiwan                           51\n",
       "Haiti                            44\n",
       "Iran                             43\n",
       "Portugal                         37\n",
       "Nicaragua                        34\n",
       "Peru                             31\n",
       "France                           29\n",
       "Greece                           29\n",
       "Ecuador                          28\n",
       "Ireland                          24\n",
       "Hong                             20\n",
       "Cambodia                         19\n",
       "Trinadad&Tobago                  19\n",
       "Laos                             18\n",
       "Thailand                         18\n",
       "Yugoslavia                       16\n",
       "Outlying-US(Guam-USVI-etc)       14\n",
       "Honduras                         13\n",
       "Hungary                          13\n",
       "Scotland                         12\n",
       "Holand-Netherlands                1\n",
       "Name: native-country, dtype: int64"
      ]
     },
     "execution_count": 15,
     "metadata": {},
     "output_type": "execute_result"
    }
   ],
   "source": [
    "native_country_list = df['native-country'].value_counts()\n",
    "native_country_list"
   ]
  },
  {
   "cell_type": "markdown",
   "id": "32b7d582",
   "metadata": {},
   "source": [
    "We note that we have `583` citizens of whom we do not know their nationality of origin. At the moment this is not a problem.\n",
    "\n",
    "Let's calculate how many people from each country earn more than 50K. We will create a list with this information:"
   ]
  },
  {
   "cell_type": "code",
   "execution_count": 16,
   "id": "373689cf",
   "metadata": {},
   "outputs": [],
   "source": [
    "aux = []\n",
    "\n",
    "for country in native_country_list.index:\n",
    "    aux.append(df[(df['native-country'] == country) & (df['salary']=='>50K')].shape[0])"
   ]
  },
  {
   "cell_type": "markdown",
   "id": "1f845071",
   "metadata": {},
   "source": [
    "Now we organize this information in a new Data Frame:"
   ]
  },
  {
   "cell_type": "code",
   "execution_count": 17,
   "id": "300f5d80",
   "metadata": {},
   "outputs": [
    {
     "data": {
      "text/html": [
       "<div>\n",
       "<style scoped>\n",
       "    .dataframe tbody tr th:only-of-type {\n",
       "        vertical-align: middle;\n",
       "    }\n",
       "\n",
       "    .dataframe tbody tr th {\n",
       "        vertical-align: top;\n",
       "    }\n",
       "\n",
       "    .dataframe thead th {\n",
       "        text-align: right;\n",
       "    }\n",
       "</style>\n",
       "<table border=\"1\" class=\"dataframe\">\n",
       "  <thead>\n",
       "    <tr style=\"text-align: right;\">\n",
       "      <th></th>\n",
       "      <th>native-country</th>\n",
       "      <th>salary-more-50K</th>\n",
       "    </tr>\n",
       "  </thead>\n",
       "  <tbody>\n",
       "    <tr>\n",
       "      <th>United-States</th>\n",
       "      <td>29170</td>\n",
       "      <td>7171</td>\n",
       "    </tr>\n",
       "    <tr>\n",
       "      <th>Mexico</th>\n",
       "      <td>643</td>\n",
       "      <td>33</td>\n",
       "    </tr>\n",
       "    <tr>\n",
       "      <th>?</th>\n",
       "      <td>583</td>\n",
       "      <td>146</td>\n",
       "    </tr>\n",
       "    <tr>\n",
       "      <th>Philippines</th>\n",
       "      <td>198</td>\n",
       "      <td>61</td>\n",
       "    </tr>\n",
       "    <tr>\n",
       "      <th>Germany</th>\n",
       "      <td>137</td>\n",
       "      <td>44</td>\n",
       "    </tr>\n",
       "    <tr>\n",
       "      <th>Canada</th>\n",
       "      <td>121</td>\n",
       "      <td>39</td>\n",
       "    </tr>\n",
       "    <tr>\n",
       "      <th>Puerto-Rico</th>\n",
       "      <td>114</td>\n",
       "      <td>12</td>\n",
       "    </tr>\n",
       "    <tr>\n",
       "      <th>El-Salvador</th>\n",
       "      <td>106</td>\n",
       "      <td>9</td>\n",
       "    </tr>\n",
       "    <tr>\n",
       "      <th>India</th>\n",
       "      <td>100</td>\n",
       "      <td>40</td>\n",
       "    </tr>\n",
       "    <tr>\n",
       "      <th>Cuba</th>\n",
       "      <td>95</td>\n",
       "      <td>25</td>\n",
       "    </tr>\n",
       "    <tr>\n",
       "      <th>England</th>\n",
       "      <td>90</td>\n",
       "      <td>30</td>\n",
       "    </tr>\n",
       "    <tr>\n",
       "      <th>Jamaica</th>\n",
       "      <td>81</td>\n",
       "      <td>10</td>\n",
       "    </tr>\n",
       "    <tr>\n",
       "      <th>South</th>\n",
       "      <td>80</td>\n",
       "      <td>16</td>\n",
       "    </tr>\n",
       "    <tr>\n",
       "      <th>China</th>\n",
       "      <td>75</td>\n",
       "      <td>20</td>\n",
       "    </tr>\n",
       "    <tr>\n",
       "      <th>Italy</th>\n",
       "      <td>73</td>\n",
       "      <td>25</td>\n",
       "    </tr>\n",
       "    <tr>\n",
       "      <th>Dominican-Republic</th>\n",
       "      <td>70</td>\n",
       "      <td>2</td>\n",
       "    </tr>\n",
       "    <tr>\n",
       "      <th>Vietnam</th>\n",
       "      <td>67</td>\n",
       "      <td>5</td>\n",
       "    </tr>\n",
       "    <tr>\n",
       "      <th>Guatemala</th>\n",
       "      <td>64</td>\n",
       "      <td>3</td>\n",
       "    </tr>\n",
       "    <tr>\n",
       "      <th>Japan</th>\n",
       "      <td>62</td>\n",
       "      <td>24</td>\n",
       "    </tr>\n",
       "    <tr>\n",
       "      <th>Poland</th>\n",
       "      <td>60</td>\n",
       "      <td>12</td>\n",
       "    </tr>\n",
       "    <tr>\n",
       "      <th>Columbia</th>\n",
       "      <td>59</td>\n",
       "      <td>2</td>\n",
       "    </tr>\n",
       "    <tr>\n",
       "      <th>Taiwan</th>\n",
       "      <td>51</td>\n",
       "      <td>20</td>\n",
       "    </tr>\n",
       "    <tr>\n",
       "      <th>Haiti</th>\n",
       "      <td>44</td>\n",
       "      <td>4</td>\n",
       "    </tr>\n",
       "    <tr>\n",
       "      <th>Iran</th>\n",
       "      <td>43</td>\n",
       "      <td>18</td>\n",
       "    </tr>\n",
       "    <tr>\n",
       "      <th>Portugal</th>\n",
       "      <td>37</td>\n",
       "      <td>4</td>\n",
       "    </tr>\n",
       "    <tr>\n",
       "      <th>Nicaragua</th>\n",
       "      <td>34</td>\n",
       "      <td>2</td>\n",
       "    </tr>\n",
       "    <tr>\n",
       "      <th>Peru</th>\n",
       "      <td>31</td>\n",
       "      <td>2</td>\n",
       "    </tr>\n",
       "    <tr>\n",
       "      <th>France</th>\n",
       "      <td>29</td>\n",
       "      <td>12</td>\n",
       "    </tr>\n",
       "    <tr>\n",
       "      <th>Greece</th>\n",
       "      <td>29</td>\n",
       "      <td>8</td>\n",
       "    </tr>\n",
       "    <tr>\n",
       "      <th>Ecuador</th>\n",
       "      <td>28</td>\n",
       "      <td>4</td>\n",
       "    </tr>\n",
       "    <tr>\n",
       "      <th>Ireland</th>\n",
       "      <td>24</td>\n",
       "      <td>5</td>\n",
       "    </tr>\n",
       "    <tr>\n",
       "      <th>Hong</th>\n",
       "      <td>20</td>\n",
       "      <td>6</td>\n",
       "    </tr>\n",
       "    <tr>\n",
       "      <th>Cambodia</th>\n",
       "      <td>19</td>\n",
       "      <td>7</td>\n",
       "    </tr>\n",
       "    <tr>\n",
       "      <th>Trinadad&amp;Tobago</th>\n",
       "      <td>19</td>\n",
       "      <td>2</td>\n",
       "    </tr>\n",
       "    <tr>\n",
       "      <th>Laos</th>\n",
       "      <td>18</td>\n",
       "      <td>2</td>\n",
       "    </tr>\n",
       "    <tr>\n",
       "      <th>Thailand</th>\n",
       "      <td>18</td>\n",
       "      <td>3</td>\n",
       "    </tr>\n",
       "    <tr>\n",
       "      <th>Yugoslavia</th>\n",
       "      <td>16</td>\n",
       "      <td>6</td>\n",
       "    </tr>\n",
       "    <tr>\n",
       "      <th>Outlying-US(Guam-USVI-etc)</th>\n",
       "      <td>14</td>\n",
       "      <td>0</td>\n",
       "    </tr>\n",
       "    <tr>\n",
       "      <th>Honduras</th>\n",
       "      <td>13</td>\n",
       "      <td>1</td>\n",
       "    </tr>\n",
       "    <tr>\n",
       "      <th>Hungary</th>\n",
       "      <td>13</td>\n",
       "      <td>3</td>\n",
       "    </tr>\n",
       "    <tr>\n",
       "      <th>Scotland</th>\n",
       "      <td>12</td>\n",
       "      <td>3</td>\n",
       "    </tr>\n",
       "    <tr>\n",
       "      <th>Holand-Netherlands</th>\n",
       "      <td>1</td>\n",
       "      <td>0</td>\n",
       "    </tr>\n",
       "  </tbody>\n",
       "</table>\n",
       "</div>"
      ],
      "text/plain": [
       "                            native-country  salary-more-50K\n",
       "United-States                        29170             7171\n",
       "Mexico                                 643               33\n",
       "?                                      583              146\n",
       "Philippines                            198               61\n",
       "Germany                                137               44\n",
       "Canada                                 121               39\n",
       "Puerto-Rico                            114               12\n",
       "El-Salvador                            106                9\n",
       "India                                  100               40\n",
       "Cuba                                    95               25\n",
       "England                                 90               30\n",
       "Jamaica                                 81               10\n",
       "South                                   80               16\n",
       "China                                   75               20\n",
       "Italy                                   73               25\n",
       "Dominican-Republic                      70                2\n",
       "Vietnam                                 67                5\n",
       "Guatemala                               64                3\n",
       "Japan                                   62               24\n",
       "Poland                                  60               12\n",
       "Columbia                                59                2\n",
       "Taiwan                                  51               20\n",
       "Haiti                                   44                4\n",
       "Iran                                    43               18\n",
       "Portugal                                37                4\n",
       "Nicaragua                               34                2\n",
       "Peru                                    31                2\n",
       "France                                  29               12\n",
       "Greece                                  29                8\n",
       "Ecuador                                 28                4\n",
       "Ireland                                 24                5\n",
       "Hong                                    20                6\n",
       "Cambodia                                19                7\n",
       "Trinadad&Tobago                         19                2\n",
       "Laos                                    18                2\n",
       "Thailand                                18                3\n",
       "Yugoslavia                              16                6\n",
       "Outlying-US(Guam-USVI-etc)              14                0\n",
       "Honduras                                13                1\n",
       "Hungary                                 13                3\n",
       "Scotland                                12                3\n",
       "Holand-Netherlands                       1                0"
      ]
     },
     "execution_count": 17,
     "metadata": {},
     "output_type": "execute_result"
    }
   ],
   "source": [
    "new_df = pd.DataFrame(native_country_list)\n",
    "new_df['salary-more-50K'] = aux\n",
    "new_df"
   ]
  },
  {
   "cell_type": "markdown",
   "id": "6521932a",
   "metadata": {},
   "source": [
    "And finally we add a new column to answer the questions."
   ]
  },
  {
   "cell_type": "code",
   "execution_count": 18,
   "id": "8b69d649",
   "metadata": {},
   "outputs": [
    {
     "data": {
      "text/html": [
       "<div>\n",
       "<style scoped>\n",
       "    .dataframe tbody tr th:only-of-type {\n",
       "        vertical-align: middle;\n",
       "    }\n",
       "\n",
       "    .dataframe tbody tr th {\n",
       "        vertical-align: top;\n",
       "    }\n",
       "\n",
       "    .dataframe thead th {\n",
       "        text-align: right;\n",
       "    }\n",
       "</style>\n",
       "<table border=\"1\" class=\"dataframe\">\n",
       "  <thead>\n",
       "    <tr style=\"text-align: right;\">\n",
       "      <th></th>\n",
       "      <th>native-country</th>\n",
       "      <th>salary-more-50K</th>\n",
       "      <th>percentage-rich</th>\n",
       "    </tr>\n",
       "  </thead>\n",
       "  <tbody>\n",
       "    <tr>\n",
       "      <th>United-States</th>\n",
       "      <td>29170</td>\n",
       "      <td>7171</td>\n",
       "      <td>24.6</td>\n",
       "    </tr>\n",
       "    <tr>\n",
       "      <th>Mexico</th>\n",
       "      <td>643</td>\n",
       "      <td>33</td>\n",
       "      <td>5.1</td>\n",
       "    </tr>\n",
       "    <tr>\n",
       "      <th>?</th>\n",
       "      <td>583</td>\n",
       "      <td>146</td>\n",
       "      <td>25.0</td>\n",
       "    </tr>\n",
       "    <tr>\n",
       "      <th>Philippines</th>\n",
       "      <td>198</td>\n",
       "      <td>61</td>\n",
       "      <td>30.8</td>\n",
       "    </tr>\n",
       "    <tr>\n",
       "      <th>Germany</th>\n",
       "      <td>137</td>\n",
       "      <td>44</td>\n",
       "      <td>32.1</td>\n",
       "    </tr>\n",
       "    <tr>\n",
       "      <th>Canada</th>\n",
       "      <td>121</td>\n",
       "      <td>39</td>\n",
       "      <td>32.2</td>\n",
       "    </tr>\n",
       "    <tr>\n",
       "      <th>Puerto-Rico</th>\n",
       "      <td>114</td>\n",
       "      <td>12</td>\n",
       "      <td>10.5</td>\n",
       "    </tr>\n",
       "    <tr>\n",
       "      <th>El-Salvador</th>\n",
       "      <td>106</td>\n",
       "      <td>9</td>\n",
       "      <td>8.5</td>\n",
       "    </tr>\n",
       "    <tr>\n",
       "      <th>India</th>\n",
       "      <td>100</td>\n",
       "      <td>40</td>\n",
       "      <td>40.0</td>\n",
       "    </tr>\n",
       "    <tr>\n",
       "      <th>Cuba</th>\n",
       "      <td>95</td>\n",
       "      <td>25</td>\n",
       "      <td>26.3</td>\n",
       "    </tr>\n",
       "    <tr>\n",
       "      <th>England</th>\n",
       "      <td>90</td>\n",
       "      <td>30</td>\n",
       "      <td>33.3</td>\n",
       "    </tr>\n",
       "    <tr>\n",
       "      <th>Jamaica</th>\n",
       "      <td>81</td>\n",
       "      <td>10</td>\n",
       "      <td>12.3</td>\n",
       "    </tr>\n",
       "    <tr>\n",
       "      <th>South</th>\n",
       "      <td>80</td>\n",
       "      <td>16</td>\n",
       "      <td>20.0</td>\n",
       "    </tr>\n",
       "    <tr>\n",
       "      <th>China</th>\n",
       "      <td>75</td>\n",
       "      <td>20</td>\n",
       "      <td>26.7</td>\n",
       "    </tr>\n",
       "    <tr>\n",
       "      <th>Italy</th>\n",
       "      <td>73</td>\n",
       "      <td>25</td>\n",
       "      <td>34.2</td>\n",
       "    </tr>\n",
       "    <tr>\n",
       "      <th>Dominican-Republic</th>\n",
       "      <td>70</td>\n",
       "      <td>2</td>\n",
       "      <td>2.9</td>\n",
       "    </tr>\n",
       "    <tr>\n",
       "      <th>Vietnam</th>\n",
       "      <td>67</td>\n",
       "      <td>5</td>\n",
       "      <td>7.5</td>\n",
       "    </tr>\n",
       "    <tr>\n",
       "      <th>Guatemala</th>\n",
       "      <td>64</td>\n",
       "      <td>3</td>\n",
       "      <td>4.7</td>\n",
       "    </tr>\n",
       "    <tr>\n",
       "      <th>Japan</th>\n",
       "      <td>62</td>\n",
       "      <td>24</td>\n",
       "      <td>38.7</td>\n",
       "    </tr>\n",
       "    <tr>\n",
       "      <th>Poland</th>\n",
       "      <td>60</td>\n",
       "      <td>12</td>\n",
       "      <td>20.0</td>\n",
       "    </tr>\n",
       "    <tr>\n",
       "      <th>Columbia</th>\n",
       "      <td>59</td>\n",
       "      <td>2</td>\n",
       "      <td>3.4</td>\n",
       "    </tr>\n",
       "    <tr>\n",
       "      <th>Taiwan</th>\n",
       "      <td>51</td>\n",
       "      <td>20</td>\n",
       "      <td>39.2</td>\n",
       "    </tr>\n",
       "    <tr>\n",
       "      <th>Haiti</th>\n",
       "      <td>44</td>\n",
       "      <td>4</td>\n",
       "      <td>9.1</td>\n",
       "    </tr>\n",
       "    <tr>\n",
       "      <th>Iran</th>\n",
       "      <td>43</td>\n",
       "      <td>18</td>\n",
       "      <td>41.9</td>\n",
       "    </tr>\n",
       "    <tr>\n",
       "      <th>Portugal</th>\n",
       "      <td>37</td>\n",
       "      <td>4</td>\n",
       "      <td>10.8</td>\n",
       "    </tr>\n",
       "    <tr>\n",
       "      <th>Nicaragua</th>\n",
       "      <td>34</td>\n",
       "      <td>2</td>\n",
       "      <td>5.9</td>\n",
       "    </tr>\n",
       "    <tr>\n",
       "      <th>Peru</th>\n",
       "      <td>31</td>\n",
       "      <td>2</td>\n",
       "      <td>6.5</td>\n",
       "    </tr>\n",
       "    <tr>\n",
       "      <th>France</th>\n",
       "      <td>29</td>\n",
       "      <td>12</td>\n",
       "      <td>41.4</td>\n",
       "    </tr>\n",
       "    <tr>\n",
       "      <th>Greece</th>\n",
       "      <td>29</td>\n",
       "      <td>8</td>\n",
       "      <td>27.6</td>\n",
       "    </tr>\n",
       "    <tr>\n",
       "      <th>Ecuador</th>\n",
       "      <td>28</td>\n",
       "      <td>4</td>\n",
       "      <td>14.3</td>\n",
       "    </tr>\n",
       "    <tr>\n",
       "      <th>Ireland</th>\n",
       "      <td>24</td>\n",
       "      <td>5</td>\n",
       "      <td>20.8</td>\n",
       "    </tr>\n",
       "    <tr>\n",
       "      <th>Hong</th>\n",
       "      <td>20</td>\n",
       "      <td>6</td>\n",
       "      <td>30.0</td>\n",
       "    </tr>\n",
       "    <tr>\n",
       "      <th>Cambodia</th>\n",
       "      <td>19</td>\n",
       "      <td>7</td>\n",
       "      <td>36.8</td>\n",
       "    </tr>\n",
       "    <tr>\n",
       "      <th>Trinadad&amp;Tobago</th>\n",
       "      <td>19</td>\n",
       "      <td>2</td>\n",
       "      <td>10.5</td>\n",
       "    </tr>\n",
       "    <tr>\n",
       "      <th>Laos</th>\n",
       "      <td>18</td>\n",
       "      <td>2</td>\n",
       "      <td>11.1</td>\n",
       "    </tr>\n",
       "    <tr>\n",
       "      <th>Thailand</th>\n",
       "      <td>18</td>\n",
       "      <td>3</td>\n",
       "      <td>16.7</td>\n",
       "    </tr>\n",
       "    <tr>\n",
       "      <th>Yugoslavia</th>\n",
       "      <td>16</td>\n",
       "      <td>6</td>\n",
       "      <td>37.5</td>\n",
       "    </tr>\n",
       "    <tr>\n",
       "      <th>Outlying-US(Guam-USVI-etc)</th>\n",
       "      <td>14</td>\n",
       "      <td>0</td>\n",
       "      <td>0.0</td>\n",
       "    </tr>\n",
       "    <tr>\n",
       "      <th>Honduras</th>\n",
       "      <td>13</td>\n",
       "      <td>1</td>\n",
       "      <td>7.7</td>\n",
       "    </tr>\n",
       "    <tr>\n",
       "      <th>Hungary</th>\n",
       "      <td>13</td>\n",
       "      <td>3</td>\n",
       "      <td>23.1</td>\n",
       "    </tr>\n",
       "    <tr>\n",
       "      <th>Scotland</th>\n",
       "      <td>12</td>\n",
       "      <td>3</td>\n",
       "      <td>25.0</td>\n",
       "    </tr>\n",
       "    <tr>\n",
       "      <th>Holand-Netherlands</th>\n",
       "      <td>1</td>\n",
       "      <td>0</td>\n",
       "      <td>0.0</td>\n",
       "    </tr>\n",
       "  </tbody>\n",
       "</table>\n",
       "</div>"
      ],
      "text/plain": [
       "                            native-country  salary-more-50K  percentage-rich\n",
       "United-States                        29170             7171             24.6\n",
       "Mexico                                 643               33              5.1\n",
       "?                                      583              146             25.0\n",
       "Philippines                            198               61             30.8\n",
       "Germany                                137               44             32.1\n",
       "Canada                                 121               39             32.2\n",
       "Puerto-Rico                            114               12             10.5\n",
       "El-Salvador                            106                9              8.5\n",
       "India                                  100               40             40.0\n",
       "Cuba                                    95               25             26.3\n",
       "England                                 90               30             33.3\n",
       "Jamaica                                 81               10             12.3\n",
       "South                                   80               16             20.0\n",
       "China                                   75               20             26.7\n",
       "Italy                                   73               25             34.2\n",
       "Dominican-Republic                      70                2              2.9\n",
       "Vietnam                                 67                5              7.5\n",
       "Guatemala                               64                3              4.7\n",
       "Japan                                   62               24             38.7\n",
       "Poland                                  60               12             20.0\n",
       "Columbia                                59                2              3.4\n",
       "Taiwan                                  51               20             39.2\n",
       "Haiti                                   44                4              9.1\n",
       "Iran                                    43               18             41.9\n",
       "Portugal                                37                4             10.8\n",
       "Nicaragua                               34                2              5.9\n",
       "Peru                                    31                2              6.5\n",
       "France                                  29               12             41.4\n",
       "Greece                                  29                8             27.6\n",
       "Ecuador                                 28                4             14.3\n",
       "Ireland                                 24                5             20.8\n",
       "Hong                                    20                6             30.0\n",
       "Cambodia                                19                7             36.8\n",
       "Trinadad&Tobago                         19                2             10.5\n",
       "Laos                                    18                2             11.1\n",
       "Thailand                                18                3             16.7\n",
       "Yugoslavia                              16                6             37.5\n",
       "Outlying-US(Guam-USVI-etc)              14                0              0.0\n",
       "Honduras                                13                1              7.7\n",
       "Hungary                                 13                3             23.1\n",
       "Scotland                                12                3             25.0\n",
       "Holand-Netherlands                       1                0              0.0"
      ]
     },
     "execution_count": 18,
     "metadata": {},
     "output_type": "execute_result"
    }
   ],
   "source": [
    "new_df['percentage-rich'] = new_df['salary-more-50K'] / new_df['native-country'] *100\n",
    "new_df['percentage-rich'] = new_df['percentage-rich'].round(decimals = 1)\n",
    "new_df"
   ]
  },
  {
   "cell_type": "markdown",
   "id": "0b397200",
   "metadata": {},
   "source": [
    "What country has the highest percentage of people that earn more than 50K?"
   ]
  },
  {
   "cell_type": "code",
   "execution_count": 19,
   "id": "9d64f2dd",
   "metadata": {},
   "outputs": [
    {
     "data": {
      "text/plain": [
       "'Iran'"
      ]
     },
     "execution_count": 19,
     "metadata": {},
     "output_type": "execute_result"
    }
   ],
   "source": [
    "highest_earning_country = new_df['percentage-rich'].idxmax()\n",
    "highest_earning_country"
   ]
  },
  {
   "cell_type": "markdown",
   "id": "6ed00035",
   "metadata": {},
   "source": [
    "What is that percentage?"
   ]
  },
  {
   "cell_type": "code",
   "execution_count": 20,
   "id": "bbbe3165",
   "metadata": {},
   "outputs": [
    {
     "data": {
      "text/plain": [
       "41.9"
      ]
     },
     "execution_count": 20,
     "metadata": {},
     "output_type": "execute_result"
    }
   ],
   "source": [
    "highest_earning_country_percentage = new_df.loc[highest_earning_country]['percentage-rich']\n",
    "highest_earning_country_percentage"
   ]
  },
  {
   "cell_type": "markdown",
   "id": "d410471d",
   "metadata": {},
   "source": [
    "### 9. Identify the most popular occupation for those who earn more than 50K in India."
   ]
  },
  {
   "cell_type": "code",
   "execution_count": 21,
   "id": "37683d66",
   "metadata": {},
   "outputs": [
    {
     "data": {
      "text/plain": [
       "Prof-specialty      25\n",
       "Exec-managerial      8\n",
       "Other-service        2\n",
       "Tech-support         2\n",
       "Transport-moving     1\n",
       "Sales                1\n",
       "Adm-clerical         1\n",
       "Name: occupation, dtype: int64"
      ]
     },
     "execution_count": 21,
     "metadata": {},
     "output_type": "execute_result"
    }
   ],
   "source": [
    "IN_richest = df[(df['native-country'] == 'India') & (df['salary']=='>50K')]['occupation'].value_counts()\n",
    "IN_richest"
   ]
  },
  {
   "cell_type": "code",
   "execution_count": 22,
   "id": "672670fa",
   "metadata": {},
   "outputs": [
    {
     "data": {
      "text/plain": [
       "'Prof-specialty'"
      ]
     },
     "execution_count": 22,
     "metadata": {},
     "output_type": "execute_result"
    }
   ],
   "source": [
    "top_IN_occupation = IN_richest.idxmax()\n",
    "top_IN_occupation"
   ]
  },
  {
   "cell_type": "markdown",
   "id": "4a0d29be",
   "metadata": {},
   "source": [
    "### Appendix"
   ]
  },
  {
   "cell_type": "markdown",
   "id": "8a5d2a55",
   "metadata": {},
   "source": [
    "Now, we can submit the project using the following function:"
   ]
  },
  {
   "cell_type": "code",
   "execution_count": 23,
   "id": "e57368bb",
   "metadata": {},
   "outputs": [],
   "source": [
    "def calculate_demographic_data(print_data=True):\n",
    "    # Read data from file\n",
    "    df = pd.read_csv('adult.data.csv')\n",
    "\n",
    "    # How many of each race are represented in this dataset? This should be a Pandas series with race names as the index labels.\n",
    "    race_count = df['race'].value_counts()\n",
    "\n",
    "    # What is the average age of men?\n",
    "    average_age_men = df[df['sex'] == 'Male']['age'].mean()\n",
    "    average_age_men = round(average_age_men, 1)\n",
    "\n",
    "    # What is the percentage of people who have a Bachelor's degree?\n",
    "    percentage_bachelors = df[df['education'] == 'Bachelors'].shape[0]/df.shape[0]*100\n",
    "    percentage_bachelors = round(percentage_bachelors, 1)\n",
    "\n",
    "    # What percentage of people with advanced education (`Bachelors`, `Masters`, or `Doctorate`) make more than 50K?\n",
    "    # What percentage of people without advanced education make more than 50K?\n",
    "\n",
    "    # with and without `Bachelors`, `Masters`, or `Doctorate`\n",
    "    higher_education = df[df['education'].isin(['Bachelors', 'Masters', 'Doctorate'])].shape[0]\n",
    "    ## alternative: higher_education = df[(df['education'] == 'Bachelors') | (df['education'] =='Masters') | (df['education'] =='Doctorate')].shape[0]\n",
    "    \n",
    "    lower_education = df[~df['education'].isin(['Bachelors', 'Masters', 'Doctorate'])].shape[0]\n",
    "    \n",
    "    \n",
    "    # percentage with salary >50K\n",
    "    higher_education_rich = df[(df['education'].isin(['Bachelors', 'Masters', 'Doctorate'])) & (df['salary']=='>50K')].shape[0]/higher_education*100\n",
    "    higher_education_rich = round(higher_education_rich, 1)\n",
    "    \n",
    "    lower_education_rich = df[~(df['education'].isin(['Bachelors', 'Masters', 'Doctorate'])) & (df['salary']=='>50K')].shape[0]/lower_education*100\n",
    "    lower_education_rich = round(lower_education_rich, 1)\n",
    "    \n",
    "    # What is the minimum number of hours a person works per week (hours-per-week feature)?\n",
    "    min_work_hours = df['hours-per-week'].min()\n",
    "\n",
    "    # What percentage of the people who work the minimum number of hours per week have a salary of >50K?\n",
    "    num_min_workers = df[df['hours-per-week'] == min_work_hours].shape[0]\n",
    "\n",
    "    rich_percentage = df[(df['hours-per-week'] == min_work_hours) & (df['salary']=='>50K')].shape[0] / num_min_workers *100\n",
    "    rich_percentage = round(rich_percentage, 1)\n",
    "    \n",
    "    # What country has the highest percentage of people that earn >50K?\n",
    "    \n",
    "    native_country_list = df['native-country'].value_counts()\n",
    "    \n",
    "    aux = []\n",
    "    for country in native_country_list.index:\n",
    "        aux.append(df[(df['native-country'] == country) & (df['salary']=='>50K')].shape[0])\n",
    "        \n",
    "    new_df = pd.DataFrame(native_country_list)\n",
    "    new_df['salary-more-50K'] = aux\n",
    "    new_df['percentage-rich'] = new_df['salary-more-50K'] / new_df['native-country'] *100\n",
    "    new_df['percentage-rich'] = new_df['percentage-rich'].round(decimals = 1)\n",
    "        \n",
    "    highest_earning_country = new_df['percentage-rich'].idxmax()\n",
    "    highest_earning_country_percentage = new_df.loc[highest_earning_country]['percentage-rich']\n",
    "\n",
    "    # Identify the most popular occupation for those who earn >50K in India.\n",
    "    \n",
    "    IN_richest = df[(df['native-country'] == 'India') & (df['salary']=='>50K')]['occupation'].value_counts()\n",
    "    top_IN_occupation = IN_richest.idxmax()\n",
    "\n",
    "    # DO NOT MODIFY BELOW THIS LINE\n",
    "\n",
    "    if print_data:\n",
    "        print(\"Number of each race:\\n\", race_count) \n",
    "        print(\"Average age of men:\", average_age_men)\n",
    "        print(f\"Percentage with Bachelors degrees: {percentage_bachelors}%\")\n",
    "        print(f\"Percentage with higher education that earn >50K: {higher_education_rich}%\")\n",
    "        print(f\"Percentage without higher education that earn >50K: {lower_education_rich}%\")\n",
    "        print(f\"Min work time: {min_work_hours} hours/week\")\n",
    "        print(f\"Percentage of rich among those who work fewest hours: {rich_percentage}%\")\n",
    "        print(\"Country with highest percentage of rich:\", highest_earning_country)\n",
    "        print(f\"Highest percentage of rich people in country: {highest_earning_country_percentage}%\")\n",
    "        print(\"Top occupations in India:\", top_IN_occupation)\n",
    "\n",
    "    return {\n",
    "        'race_count': race_count,\n",
    "        'average_age_men': average_age_men,\n",
    "        'percentage_bachelors': percentage_bachelors,\n",
    "        'higher_education_rich': higher_education_rich,\n",
    "        'lower_education_rich': lower_education_rich,\n",
    "        'min_work_hours': min_work_hours,\n",
    "        'rich_percentage': rich_percentage,\n",
    "        'highest_earning_country': highest_earning_country,\n",
    "        'highest_earning_country_percentage': highest_earning_country_percentage,\n",
    "        'top_IN_occupation': top_IN_occupation\n",
    "    }"
   ]
  }
 ],
 "metadata": {
  "kernelspec": {
   "display_name": "Python 3 (ipykernel)",
   "language": "python",
   "name": "python3"
  },
  "language_info": {
   "codemirror_mode": {
    "name": "ipython",
    "version": 3
   },
   "file_extension": ".py",
   "mimetype": "text/x-python",
   "name": "python",
   "nbconvert_exporter": "python",
   "pygments_lexer": "ipython3",
   "version": "3.9.7"
  }
 },
 "nbformat": 4,
 "nbformat_minor": 5
}
