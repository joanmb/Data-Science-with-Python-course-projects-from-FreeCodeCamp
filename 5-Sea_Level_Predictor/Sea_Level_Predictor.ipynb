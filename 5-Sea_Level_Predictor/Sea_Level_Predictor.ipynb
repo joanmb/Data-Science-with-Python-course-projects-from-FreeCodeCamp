{
 "cells": [
  {
   "cell_type": "markdown",
   "id": "a66597ae",
   "metadata": {},
   "source": [
    "# Sea Level Predictor\n",
    "\n",
    "#### The fifth project of the \"[*Data Analysis with Python*](https://www.freecodecamp.org/learn/data-analysis-with-python/)\" Certification.\n",
    "\n",
    "#### A [freeCodeCamp.org](https://www.freecodecamp.org/) course"
   ]
  },
  {
   "cell_type": "markdown",
   "id": "0f54e80d",
   "metadata": {},
   "source": [
    "![purple-divider](https://user-images.githubusercontent.com/7065401/52071927-c1cd7100-2562-11e9-908a-dde91ba14e59.png)\n",
    "\n",
    "### The Goal\n",
    "\n",
    "The last project consists of analyzing a dataset of the global average sea level change since 1880. We will use the data to predict the sea level change through year 2050."
   ]
  },
  {
   "cell_type": "markdown",
   "id": "b0a11720",
   "metadata": {},
   "source": [
    "### Hands on!"
   ]
  },
  {
   "cell_type": "code",
   "execution_count": 1,
   "id": "4dd7ea00",
   "metadata": {},
   "outputs": [],
   "source": [
    "import pandas as pd\n",
    "import matplotlib.pyplot as plt\n",
    "from scipy.stats import linregress"
   ]
  },
  {
   "cell_type": "code",
   "execution_count": 2,
   "id": "fb410111",
   "metadata": {},
   "outputs": [],
   "source": [
    "df = pd.read_csv(\"epa-sea-level.csv\")"
   ]
  },
  {
   "cell_type": "markdown",
   "id": "784c0638",
   "metadata": {},
   "source": [
    "### Basic exploration"
   ]
  },
  {
   "cell_type": "code",
   "execution_count": 3,
   "id": "f35417e0",
   "metadata": {},
   "outputs": [
    {
     "data": {
      "text/html": [
       "<div>\n",
       "<style scoped>\n",
       "    .dataframe tbody tr th:only-of-type {\n",
       "        vertical-align: middle;\n",
       "    }\n",
       "\n",
       "    .dataframe tbody tr th {\n",
       "        vertical-align: top;\n",
       "    }\n",
       "\n",
       "    .dataframe thead th {\n",
       "        text-align: right;\n",
       "    }\n",
       "</style>\n",
       "<table border=\"1\" class=\"dataframe\">\n",
       "  <thead>\n",
       "    <tr style=\"text-align: right;\">\n",
       "      <th></th>\n",
       "      <th>Year</th>\n",
       "      <th>CSIRO Adjusted Sea Level</th>\n",
       "      <th>Lower Error Bound</th>\n",
       "      <th>Upper Error Bound</th>\n",
       "      <th>NOAA Adjusted Sea Level</th>\n",
       "    </tr>\n",
       "  </thead>\n",
       "  <tbody>\n",
       "    <tr>\n",
       "      <th>0</th>\n",
       "      <td>1880</td>\n",
       "      <td>0.000000</td>\n",
       "      <td>-0.952756</td>\n",
       "      <td>0.952756</td>\n",
       "      <td>NaN</td>\n",
       "    </tr>\n",
       "    <tr>\n",
       "      <th>1</th>\n",
       "      <td>1881</td>\n",
       "      <td>0.220472</td>\n",
       "      <td>-0.732283</td>\n",
       "      <td>1.173228</td>\n",
       "      <td>NaN</td>\n",
       "    </tr>\n",
       "    <tr>\n",
       "      <th>2</th>\n",
       "      <td>1882</td>\n",
       "      <td>-0.440945</td>\n",
       "      <td>-1.346457</td>\n",
       "      <td>0.464567</td>\n",
       "      <td>NaN</td>\n",
       "    </tr>\n",
       "    <tr>\n",
       "      <th>3</th>\n",
       "      <td>1883</td>\n",
       "      <td>-0.232283</td>\n",
       "      <td>-1.129921</td>\n",
       "      <td>0.665354</td>\n",
       "      <td>NaN</td>\n",
       "    </tr>\n",
       "    <tr>\n",
       "      <th>4</th>\n",
       "      <td>1884</td>\n",
       "      <td>0.590551</td>\n",
       "      <td>-0.283465</td>\n",
       "      <td>1.464567</td>\n",
       "      <td>NaN</td>\n",
       "    </tr>\n",
       "  </tbody>\n",
       "</table>\n",
       "</div>"
      ],
      "text/plain": [
       "   Year  CSIRO Adjusted Sea Level  Lower Error Bound  Upper Error Bound  \\\n",
       "0  1880                  0.000000          -0.952756           0.952756   \n",
       "1  1881                  0.220472          -0.732283           1.173228   \n",
       "2  1882                 -0.440945          -1.346457           0.464567   \n",
       "3  1883                 -0.232283          -1.129921           0.665354   \n",
       "4  1884                  0.590551          -0.283465           1.464567   \n",
       "\n",
       "   NOAA Adjusted Sea Level  \n",
       "0                      NaN  \n",
       "1                      NaN  \n",
       "2                      NaN  \n",
       "3                      NaN  \n",
       "4                      NaN  "
      ]
     },
     "execution_count": 3,
     "metadata": {},
     "output_type": "execute_result"
    }
   ],
   "source": [
    "df.head()"
   ]
  },
  {
   "cell_type": "code",
   "execution_count": 4,
   "id": "0f300ab3",
   "metadata": {},
   "outputs": [
    {
     "data": {
      "text/html": [
       "<div>\n",
       "<style scoped>\n",
       "    .dataframe tbody tr th:only-of-type {\n",
       "        vertical-align: middle;\n",
       "    }\n",
       "\n",
       "    .dataframe tbody tr th {\n",
       "        vertical-align: top;\n",
       "    }\n",
       "\n",
       "    .dataframe thead th {\n",
       "        text-align: right;\n",
       "    }\n",
       "</style>\n",
       "<table border=\"1\" class=\"dataframe\">\n",
       "  <thead>\n",
       "    <tr style=\"text-align: right;\">\n",
       "      <th></th>\n",
       "      <th>Year</th>\n",
       "      <th>CSIRO Adjusted Sea Level</th>\n",
       "      <th>Lower Error Bound</th>\n",
       "      <th>Upper Error Bound</th>\n",
       "      <th>NOAA Adjusted Sea Level</th>\n",
       "    </tr>\n",
       "  </thead>\n",
       "  <tbody>\n",
       "    <tr>\n",
       "      <th>129</th>\n",
       "      <td>2009</td>\n",
       "      <td>8.586614</td>\n",
       "      <td>8.311024</td>\n",
       "      <td>8.862205</td>\n",
       "      <td>8.046354</td>\n",
       "    </tr>\n",
       "    <tr>\n",
       "      <th>130</th>\n",
       "      <td>2010</td>\n",
       "      <td>8.901575</td>\n",
       "      <td>8.618110</td>\n",
       "      <td>9.185039</td>\n",
       "      <td>8.122973</td>\n",
       "    </tr>\n",
       "    <tr>\n",
       "      <th>131</th>\n",
       "      <td>2011</td>\n",
       "      <td>8.964567</td>\n",
       "      <td>8.661417</td>\n",
       "      <td>9.267717</td>\n",
       "      <td>8.053065</td>\n",
       "    </tr>\n",
       "    <tr>\n",
       "      <th>132</th>\n",
       "      <td>2012</td>\n",
       "      <td>9.326772</td>\n",
       "      <td>8.992126</td>\n",
       "      <td>9.661417</td>\n",
       "      <td>8.457058</td>\n",
       "    </tr>\n",
       "    <tr>\n",
       "      <th>133</th>\n",
       "      <td>2013</td>\n",
       "      <td>8.980315</td>\n",
       "      <td>8.622047</td>\n",
       "      <td>9.338583</td>\n",
       "      <td>8.546648</td>\n",
       "    </tr>\n",
       "  </tbody>\n",
       "</table>\n",
       "</div>"
      ],
      "text/plain": [
       "     Year  CSIRO Adjusted Sea Level  Lower Error Bound  Upper Error Bound  \\\n",
       "129  2009                  8.586614           8.311024           8.862205   \n",
       "130  2010                  8.901575           8.618110           9.185039   \n",
       "131  2011                  8.964567           8.661417           9.267717   \n",
       "132  2012                  9.326772           8.992126           9.661417   \n",
       "133  2013                  8.980315           8.622047           9.338583   \n",
       "\n",
       "     NOAA Adjusted Sea Level  \n",
       "129                 8.046354  \n",
       "130                 8.122973  \n",
       "131                 8.053065  \n",
       "132                 8.457058  \n",
       "133                 8.546648  "
      ]
     },
     "execution_count": 4,
     "metadata": {},
     "output_type": "execute_result"
    }
   ],
   "source": [
    "df.tail()"
   ]
  },
  {
   "cell_type": "code",
   "execution_count": 5,
   "id": "af3197e7",
   "metadata": {},
   "outputs": [
    {
     "name": "stdout",
     "output_type": "stream",
     "text": [
      "<class 'pandas.core.frame.DataFrame'>\n",
      "RangeIndex: 134 entries, 0 to 133\n",
      "Data columns (total 5 columns):\n",
      " #   Column                    Non-Null Count  Dtype  \n",
      "---  ------                    --------------  -----  \n",
      " 0   Year                      134 non-null    int64  \n",
      " 1   CSIRO Adjusted Sea Level  134 non-null    float64\n",
      " 2   Lower Error Bound         134 non-null    float64\n",
      " 3   Upper Error Bound         134 non-null    float64\n",
      " 4   NOAA Adjusted Sea Level   21 non-null     float64\n",
      "dtypes: float64(4), int64(1)\n",
      "memory usage: 5.4 KB\n"
     ]
    }
   ],
   "source": [
    "df.info()"
   ]
  },
  {
   "cell_type": "markdown",
   "id": "220c2ff8",
   "metadata": {},
   "source": [
    "### Scatter plot"
   ]
  },
  {
   "cell_type": "markdown",
   "id": "f8e7658a",
   "metadata": {},
   "source": [
    "The first step gonna be to drawing a scatter plot using the `Year` column as the x-axis and the `CSIRO Adjusted Sea Level` column as the y-axis."
   ]
  },
  {
   "cell_type": "code",
   "execution_count": 6,
   "id": "a6fcb6b1",
   "metadata": {},
   "outputs": [
    {
     "data": {
      "image/png": "[encoded data removed]",
      "text/plain": [
       "<Figure size 1152x648 with 1 Axes>"
      ]
     },
     "metadata": {
      "needs_background": "light"
     },
     "output_type": "display_data"
    }
   ],
   "source": [
    "fig, ax = plt.subplots(figsize=(16, 9))\n",
    "\n",
    "ax.set_title(\"Rise in Sea Level\", size = 14)\n",
    "ax.set_xlabel(\"Year\", size = 12)\n",
    "ax.set_ylabel(\"Sea Level (inches)\", size = 12)\n",
    "\n",
    "plt.scatter(df['Year'], df['CSIRO Adjusted Sea Level'], c =\"blue\")\n",
    "\n",
    "plt.show()"
   ]
  },
  {
   "cell_type": "markdown",
   "id": "777d01b4",
   "metadata": {},
   "source": [
    "### A bit of linear regression"
   ]
  },
  {
   "cell_type": "markdown",
   "id": "1c324abc",
   "metadata": {},
   "source": [
    "Now, we use the `linregress` function from scipy.stats to get the slope and y-intercept of the line of best fit."
   ]
  },
  {
   "cell_type": "code",
   "execution_count": 7,
   "id": "1cd4b3f7",
   "metadata": {},
   "outputs": [
    {
     "data": {
      "text/plain": [
       "LinregressResult(slope=0.0630445840121348, intercept=-119.06594196773978, rvalue=0.984757131182585, pvalue=3.7886969791131554e-102, stderr=0.000969211871328715, intercept_stderr=1.8869433812425225)"
      ]
     },
     "execution_count": 7,
     "metadata": {},
     "output_type": "execute_result"
    }
   ],
   "source": [
    "result = linregress(df[\"Year\"], df[\"CSIRO Adjusted Sea Level\"])\n",
    "result"
   ]
  },
  {
   "cell_type": "markdown",
   "id": "3270bfe3",
   "metadata": {},
   "source": [
    "With these values, we can 'predict' the sea level rise in 2050, we only have to apply the related affine function."
   ]
  },
  {
   "cell_type": "code",
   "execution_count": 8,
   "id": "7c06652b",
   "metadata": {},
   "outputs": [
    {
     "data": {
      "text/plain": [
       "10.175455257136548"
      ]
     },
     "execution_count": 8,
     "metadata": {},
     "output_type": "execute_result"
    }
   ],
   "source": [
    "result.slope * 2050 + result.intercept"
   ]
  },
  {
   "cell_type": "markdown",
   "id": "0fd8a625",
   "metadata": {},
   "source": [
    "Even better, we can define that function:"
   ]
  },
  {
   "cell_type": "code",
   "execution_count": 9,
   "id": "680719ab",
   "metadata": {},
   "outputs": [
    {
     "data": {
      "text/plain": [
       "10.175455257136548"
      ]
     },
     "execution_count": 9,
     "metadata": {},
     "output_type": "execute_result"
    }
   ],
   "source": [
    "def predict (year, slope = result.slope, intercept = result.intercept):\n",
    "    return slope * year + intercept\n",
    "\n",
    "predict(2050)"
   ]
  },
  {
   "cell_type": "markdown",
   "id": "cfd58af4",
   "metadata": {},
   "source": [
    "We gonna plot the line of best fit over the top of the scatter plot. We make the line go through the year 2050 to see the prediction of the sea level rise in that year.\n",
    "\n",
    "The fist we have to do is enlarge our dataset until the year 2050."
   ]
  },
  {
   "cell_type": "code",
   "execution_count": 10,
   "id": "41b3a3eb",
   "metadata": {},
   "outputs": [],
   "source": [
    "future = pd.DataFrame(columns = df.columns)\n",
    "future_years = [i for i in range(df['Year'].max() + 1, 2051)]\n",
    "future['Year'] = future_years\n",
    "\n",
    "df = pd.concat([df, future])"
   ]
  },
  {
   "cell_type": "markdown",
   "id": "00af04de",
   "metadata": {},
   "source": [
    "Now, we can draw the plot."
   ]
  },
  {
   "cell_type": "code",
   "execution_count": 11,
   "id": "4247886d",
   "metadata": {},
   "outputs": [
    {
     "data": {
      "image/png": "[encoded data removed]",
      "text/plain": [
       "<Figure size 1152x648 with 1 Axes>"
      ]
     },
     "metadata": {
      "needs_background": "light"
     },
     "output_type": "display_data"
    }
   ],
   "source": [
    "fig, ax = plt.subplots(figsize=(16, 9))\n",
    "\n",
    "ax.set_title(\"Rise in Sea Level\", size = 14)\n",
    "ax.set_xlabel(\"Year\", size = 12)\n",
    "ax.set_ylabel(\"Sea Level (inches)\", size = 12)\n",
    "\n",
    "plt.scatter(df['Year'], df['CSIRO Adjusted Sea Level'], c =\"blue\")\n",
    "\n",
    "plt.plot(df['Year'], predict(df['Year']), 'y', label = 'Fitted line', linewidth = 3)\n",
    "\n",
    "plt.legend()\n",
    "plt.show()"
   ]
  },
  {
   "cell_type": "markdown",
   "id": "d837dfa5",
   "metadata": {},
   "source": [
    "### Linear regression considering only the last years"
   ]
  },
  {
   "cell_type": "markdown",
   "id": "4f847688",
   "metadata": {},
   "source": [
    "We can notice in the last chart that the last years rise is significantly greater. Due to this fact, we gonna do the same we did in the previous step, but considering only the data since 2000."
   ]
  },
  {
   "cell_type": "code",
   "execution_count": 12,
   "id": "67353628",
   "metadata": {},
   "outputs": [
    {
     "data": {
      "text/plain": [
       "LinregressResult(slope=0.1664272733318682, intercept=-325.7934668059649, rvalue=0.9762875716140618, pvalue=2.4388064141618245e-09, stderr=0.010652933111541163, intercept_stderr=21.375153425608215)"
      ]
     },
     "execution_count": 12,
     "metadata": {},
     "output_type": "execute_result"
    }
   ],
   "source": [
    "years_bounded = (df[\"Year\"] >= 2000) & (df[\"Year\"] <= 2013)\n",
    "\n",
    "result_since_2000 = linregress(df[years_bounded]['Year'], df[years_bounded][\"CSIRO Adjusted Sea Level\"])\n",
    "result_since_2000"
   ]
  },
  {
   "cell_type": "markdown",
   "id": "bce8fe19",
   "metadata": {},
   "source": [
    "In this case our prediction is obviously greater."
   ]
  },
  {
   "cell_type": "code",
   "execution_count": 13,
   "id": "185dd8e5",
   "metadata": {},
   "outputs": [
    {
     "data": {
      "text/plain": [
       "15.382443524364874"
      ]
     },
     "execution_count": 13,
     "metadata": {},
     "output_type": "execute_result"
    }
   ],
   "source": [
    "predict(2050, result_since_2000.slope, result_since_2000.intercept)"
   ]
  },
  {
   "cell_type": "markdown",
   "id": "b46e2a48",
   "metadata": {},
   "source": [
    "And finally, we can draw all together:"
   ]
  },
  {
   "cell_type": "code",
   "execution_count": 14,
   "id": "d199514f",
   "metadata": {},
   "outputs": [
    {
     "data": {
      "image/png": "[encoded data removed]",
      "text/plain": [
       "<Figure size 1152x648 with 1 Axes>"
      ]
     },
     "metadata": {
      "needs_background": "light"
     },
     "output_type": "display_data"
    }
   ],
   "source": [
    "fig, ax = plt.subplots(figsize=(16, 9))\n",
    "\n",
    "ax.set_title(\"Rise in Sea Level\", size = 14)\n",
    "ax.set_xlabel(\"Year\", size = 12)\n",
    "ax.set_ylabel(\"Sea Level (inches)\", size = 12)\n",
    "\n",
    "plt.scatter(df['Year'], df['CSIRO Adjusted Sea Level'], c =\"blue\")\n",
    "\n",
    "plt.plot(df['Year'], predict(df['Year']), 'y', label = 'Fitted line', linewidth = 3)\n",
    "\n",
    "years_since_2000 = (df[\"Year\"] >= 2000)\n",
    "plt.plot(df[years_since_2000]['Year'],\n",
    "         predict(df[years_since_2000]['Year'], result_since_2000.slope, result_since_2000.intercept),\n",
    "         'r', label = 'Fitted line since 2000', linewidth = 3)\n",
    "\n",
    "plt.legend()\n",
    "plt.show()"
   ]
  },
  {
   "cell_type": "markdown",
   "id": "d26b2211",
   "metadata": {},
   "source": [
    "### Appendix"
   ]
  },
  {
   "cell_type": "markdown",
   "id": "5445522e",
   "metadata": {},
   "source": [
    "Now, we can submit the project using the following function:"
   ]
  },
  {
   "cell_type": "code",
   "execution_count": 15,
   "id": "41a3efb9",
   "metadata": {},
   "outputs": [],
   "source": [
    "def draw_plot():\n",
    "\n",
    "    df = pd.read_csv(\"epa-sea-level.csv\")\n",
    "\n",
    "    fig, ax = plt.subplots(figsize=(16, 9))\n",
    "\n",
    "    plt.scatter(df['Year'], df['CSIRO Adjusted Sea Level'], c =\"blue\")\n",
    "\n",
    "    result = linregress(df[\"Year\"], df[\"CSIRO Adjusted Sea Level\"])\n",
    "\n",
    "    def predict (year, slope = result.slope, intercept = result.intercept):\n",
    "      return slope * year + intercept\n",
    "\n",
    "    future = pd.DataFrame(columns = df.columns)\n",
    "    future_years = [i for i in range(df['Year'].max() + 1, 2051)]\n",
    "    future['Year'] = future_years\n",
    "    \n",
    "    df = pd.concat([df, future])\n",
    "\n",
    "    plt.plot(df['Year'], predict(df['Year']), 'y', label = 'Fitted line', linewidth = 3)\n",
    "\n",
    "    years_bounded = (df[\"Year\"] >= 2000) & (df[\"Year\"] <= 2013)\n",
    "    result_since_2000 = linregress(df[years_bounded]['Year'],\n",
    "                                   df[years_bounded][\"CSIRO Adjusted Sea Level\"])\n",
    "\n",
    "    years_since_2000 = (df[\"Year\"] >= 2000)\n",
    "    plt.plot(df[years_since_2000]['Year'],\n",
    "         predict(df[years_since_2000]['Year'], result_since_2000.slope, result_since_2000.intercept),\n",
    "         'r', label = 'Fitted line since 2000', linewidth = 3)\n",
    "\n",
    "\n",
    "    \n",
    "    ax.set_title(\"Rise in Sea Level\", size = 14)\n",
    "    ax.set_xlabel(\"Year\", size = 12)\n",
    "    ax.set_ylabel(\"Sea Level (inches)\", size = 12)\n",
    "  \n",
    "    plt.legend()\n",
    "    plt.show()\n",
    "\n",
    "    \n",
    "    plt.savefig('sea_level_plot.png')\n",
    "    \n",
    "    return plt.gca()"
   ]
  }
 ],
 "metadata": {
  "kernelspec": {
   "display_name": "Python 3 (ipykernel)",
   "language": "python",
   "name": "python3"
  },
  "language_info": {
   "codemirror_mode": {
    "name": "ipython",
    "version": 3
   },
   "file_extension": ".py",
   "mimetype": "text/x-python",
   "name": "python",
   "nbconvert_exporter": "python",
   "pygments_lexer": "ipython3",
   "version": "3.9.7"
  }
 },
 "nbformat": 4,
 "nbformat_minor": 5
}
